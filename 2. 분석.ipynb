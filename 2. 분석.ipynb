{
 "cells": [
  {
   "cell_type": "code",
   "execution_count": null,
   "metadata": {},
   "outputs": [],
   "source": [
    "import warnings\n",
    "warnings.filterwarnings(action='ignore')"
   ]
  },
  {
   "cell_type": "code",
   "execution_count": null,
   "metadata": {},
   "outputs": [],
   "source": [
    "#기본\n",
    "import pandas as pd\n",
    "import os\n",
    "import numpy as np\n",
    "import math"
   ]
  },
  {
   "cell_type": "code",
   "execution_count": null,
   "metadata": {},
   "outputs": [],
   "source": [
    "# gis\n",
    "import geopandas as gpd\n",
    "from shapely import wkt\n",
    "import osmnx as ox\n",
    "import networkx as nx\n",
    "import json"
   ]
  },
  {
   "cell_type": "code",
   "execution_count": null,
   "metadata": {},
   "outputs": [],
   "source": [
    "#시각화\n",
    "import plotly.express as px\n",
    "import plotly.io as po\n",
    "from plotly import graph_objs as go"
   ]
  },
  {
   "cell_type": "code",
   "execution_count": null,
   "metadata": {},
   "outputs": [],
   "source": [
    "import statsmodels.api as sm"
   ]
  },
  {
   "cell_type": "markdown",
   "metadata": {},
   "source": [
    "### 데이터로드"
   ]
  },
  {
   "cell_type": "code",
   "execution_count": null,
   "metadata": {},
   "outputs": [],
   "source": [
    "complaints_df=pd.read_csv('../1.데이터/2.usedata/민원데이터.csv',engine='python')\n",
    "school_df=pd.read_csv('../1.데이터/2.usedata/학교데이터.csv',engine='python')\n",
    "parking_df=pd.read_csv('../1.데이터/2.usedata/공영주차장데이터.csv',engine='python')\n",
    "land_df=pd.read_csv('../1.데이터/2.usedata/시유지데이터.csv',engine='python')"
   ]
  },
  {
   "cell_type": "markdown",
   "metadata": {},
   "source": [
    "### 분석 1\n",
    "#### 현황분석 진행으로 분석 배경 및 필요성 확보 => 불법주차가 저녁시간(퇴근시간)에 많고 학교 하교시간과 겹치는 특성 도출"
   ]
  },
  {
   "cell_type": "markdown",
   "metadata": {},
   "source": [
    "1. 시간대별 민원접수 현황(불법주정차 현황)"
   ]
  },
  {
   "cell_type": "code",
   "execution_count": null,
   "metadata": {},
   "outputs": [],
   "source": [
    "tmp=complaints_df.groupby('시',as_index=False)['연도'].count()\n",
    "tmp.columns=['시','민원수']\n",
    "tmp['시']=tmp['시'].astype(str)+'시'"
   ]
  },
  {
   "cell_type": "code",
   "execution_count": null,
   "metadata": {
    "scrolled": false
   },
   "outputs": [],
   "source": [
    "fig = px.treemap(tmp, path=['시'],values='민원수',color='민원수',color_continuous_scale='orrd')\n",
    "fig.update_traces(textinfo='label+value')\n",
    "\n",
    "fig.update_layout(margin = dict(t=0, l=0, r=0, b=0))\n",
    "fig.show()"
   ]
  },
  {
   "cell_type": "markdown",
   "metadata": {},
   "source": [
    "2. 직장인/학생 평균 퇴근/하교 시간 & 교통수단"
   ]
  },
  {
   "cell_type": "markdown",
   "metadata": {},
   "source": [
    "교통수단 통계 - 서울 열린데이터광장"
   ]
  },
  {
   "cell_type": "code",
   "execution_count": null,
   "metadata": {},
   "outputs": [],
   "source": [
    "traffic=pd.read_csv('../1.데이터/2.usedata/교통수단데이터.csv',engine='python')"
   ]
  },
  {
   "cell_type": "code",
   "execution_count": null,
   "metadata": {},
   "outputs": [],
   "source": [
    "traffic=pd.melt(traffic,id_vars='소득별',var_name='교통수단',value_name='이용량')"
   ]
  },
  {
   "cell_type": "code",
   "execution_count": null,
   "metadata": {},
   "outputs": [],
   "source": [
    "traffic['교통수단_중복']=traffic['교통수단'].str.split('+').str[1]\n",
    "traffic['교통수단']=traffic['교통수단'].str.split('+').str[0]"
   ]
  },
  {
   "cell_type": "code",
   "execution_count": null,
   "metadata": {},
   "outputs": [],
   "source": [
    "tmp=traffic[traffic['교통수단_중복'].isna()==False][['소득별','교통수단_중복','이용량']]\n",
    "tmp.columns=['소득별','교통수단','이용량']"
   ]
  },
  {
   "cell_type": "code",
   "execution_count": null,
   "metadata": {},
   "outputs": [],
   "source": [
    "traffic=pd.concat([traffic[['소득별','교통수단','이용량']],tmp])"
   ]
  },
  {
   "cell_type": "code",
   "execution_count": null,
   "metadata": {},
   "outputs": [],
   "source": [
    "tmp=traffic.groupby('교통수단',as_index=False)['이용량'].sum()"
   ]
  },
  {
   "cell_type": "code",
   "execution_count": null,
   "metadata": {},
   "outputs": [],
   "source": [
    "tmp['이용량']=round(tmp['이용량']).astype(int)"
   ]
  },
  {
   "cell_type": "code",
   "execution_count": null,
   "metadata": {},
   "outputs": [],
   "source": [
    "fig = px.pie(tmp[tmp['이용량']>10],values='이용량',names='교통수단',width=700,height=700,hole=0.45)\n",
    "\n",
    "fig.update_traces(textposition='auto', textinfo='percent+label')\n",
    "fig.update_layout(margin = dict(t=0, l=0, r=0, b=0))\n",
    "fig.update_layout(font=dict(size=35))\n",
    "\n",
    "fig.update_layout(showlegend=False)\n",
    "\n",
    "fig.show()"
   ]
  },
  {
   "cell_type": "code",
   "execution_count": null,
   "metadata": {},
   "outputs": [],
   "source": [
    "서울시_통근인구=8485850 #서울 열린데이터광장\n",
    "print('버스 출근인구 : '+str(서울시_통근인구*0.338))\n",
    "print('도보 출근인구 : '+str(서울시_통근인구*0.186))\n",
    "print('지하철 출근인구 : '+str(서울시_통근인구*0.154))\n",
    "print('승용차 출근인구 : '+str(서울시_통근인구*0.127))"
   ]
  },
  {
   "cell_type": "markdown",
   "metadata": {},
   "source": [
    "1. 초등학교 수업종료시간 - 14:20분<br>\n",
    "2. 중학교 수업종료시간 - 15:50분<br>\n",
    "3. 고등학교 수업종료시간 - 16:00분<br>\n",
    "4. 직장인 평균 퇴근시간 -18:37분"
   ]
  },
  {
   "cell_type": "code",
   "execution_count": null,
   "metadata": {},
   "outputs": [],
   "source": [
    "tmp=pd.DataFrame({'유형':['초등학생','중학생','고등학생','직장인'],'퇴근_하교시간':['14.20','15.50','16.00','18.37']})"
   ]
  },
  {
   "cell_type": "code",
   "execution_count": null,
   "metadata": {
    "scrolled": false
   },
   "outputs": [],
   "source": [
    "fig = px.bar(tmp, x='유형', y=tmp['퇴근_하교시간'].astype(float),color=tmp['퇴근_하교시간'].astype(float), text=tmp['퇴근_하교시간'].astype(str).str.replace('.',':')+'분',color_continuous_scale='orrd')\n",
    "\n",
    "fig.update_layout(yaxis_tickformat = ',')\n",
    "fig.update_layout(margin={\"r\":0,\"t\":0,\"l\":0,\"b\":0})\n",
    "fig.update_layout(font=dict(size=20))\n",
    "\n",
    "fig.show()"
   ]
  },
  {
   "cell_type": "markdown",
   "metadata": {},
   "source": [
    "서울 데이터만 추출"
   ]
  },
  {
   "cell_type": "code",
   "execution_count": null,
   "metadata": {},
   "outputs": [],
   "source": [
    "시군구=gpd.read_file('../1.데이터/2.usedata/CTPRVN_20220324/ctp_rvn.shp',encoding='euc-kr')"
   ]
  },
  {
   "cell_type": "code",
   "execution_count": null,
   "metadata": {},
   "outputs": [],
   "source": [
    "시군구=시군구[시군구['CTPRVN_CD']=='11']"
   ]
  },
  {
   "cell_type": "code",
   "execution_count": null,
   "metadata": {},
   "outputs": [],
   "source": [
    "시군구=시군구.to_crs(\"epsg:4326\")"
   ]
  },
  {
   "cell_type": "code",
   "execution_count": null,
   "metadata": {},
   "outputs": [],
   "source": [
    "complaints_df=gpd.GeoDataFrame(complaints_df,geometry=gpd.points_from_xy(complaints_df.경도,complaints_df.위도),crs=\"EPSG:4326\")"
   ]
  },
  {
   "cell_type": "code",
   "execution_count": null,
   "metadata": {
    "scrolled": true
   },
   "outputs": [],
   "source": [
    "complaints_df_seoul = gpd.sjoin(complaints_df, 시군구)"
   ]
  },
  {
   "cell_type": "markdown",
   "metadata": {},
   "source": [
    "#### 시간적 범위 산출"
   ]
  },
  {
   "cell_type": "code",
   "execution_count": null,
   "metadata": {},
   "outputs": [],
   "source": [
    "tmp=complaints_df_seoul.groupby(['월','일'],as_index=False)['연도'].count()"
   ]
  },
  {
   "cell_type": "code",
   "execution_count": null,
   "metadata": {},
   "outputs": [],
   "source": [
    "tmp['월일']=tmp['월'].astype(str)+'/'+tmp['일'].astype(str)"
   ]
  },
  {
   "cell_type": "code",
   "execution_count": null,
   "metadata": {},
   "outputs": [],
   "source": [
    "tmp[tmp['월일']=='10/7']"
   ]
  },
  {
   "cell_type": "code",
   "execution_count": null,
   "metadata": {},
   "outputs": [],
   "source": [
    "fig.update_yaxes(showline=True,showgrid=True,showticklabels=True, tickfont=dict(size=13) , \n",
    "                 gridcolor='#DCEAF2', range=[0, 150] )\n",
    "fig.update_xaxes(showline=True,showgrid=True,showticklabels=True, tickfont=dict(size=13) )"
   ]
  },
  {
   "cell_type": "code",
   "execution_count": null,
   "metadata": {
    "scrolled": false
   },
   "outputs": [],
   "source": [
    "fig = px.line(tmp, x='월일', y='연도')\n",
    "\n",
    "fig.add_trace(go.Scatter(\n",
    "                    x=['10/7'], \n",
    "                    y=[375], \n",
    "                    mode='text+markers',  showlegend=False,\n",
    "                    text = '10월 7일 370건',\n",
    "                    textposition=\"top center\",marker=dict(size=15, color='Red', symbol=18 )\n",
    "                    #mode='lines' ,  marker_color='cornflowerblue'\n",
    "                        )\n",
    "             ) \n",
    "fig.update_layout(yaxis_tickformat = ',')\n",
    "fig.update_layout(margin={\"r\":0,\"t\":0,\"l\":0,\"b\":0})\n",
    "fig.update_layout(font=dict(size=15))\n",
    "fig.update_yaxes(showline=True,showgrid=True,showticklabels=True, tickfont=dict(size=13) , \n",
    "                 gridcolor='#DCEAF2')\n",
    "fig.update_xaxes(showline=True,showgrid=True,showticklabels=False, tickfont=dict(size=13) )\n",
    "fig.update_layout({ 'plot_bgcolor': 'rgb(255, 255, 255)','paper_bgcolor': 'rgb(255, 255, 255)'})\n",
    "fig.show()"
   ]
  },
  {
   "cell_type": "markdown",
   "metadata": {},
   "source": [
    "열지도 시각화"
   ]
  },
  {
   "cell_type": "code",
   "execution_count": null,
   "metadata": {},
   "outputs": [],
   "source": [
    "complaints_df_seoul=gpd.read_file('../1.데이터/2.usedata/complaints_df_seoul.shp',encoding='euc-kr')"
   ]
  },
  {
   "cell_type": "code",
   "execution_count": null,
   "metadata": {},
   "outputs": [],
   "source": [
    "#공간적 범위 선택\n",
    "fig = px.density_mapbox(complaints_df_seoul, lat='위도', lon='경도', radius=2,color_continuous_scale='orrd',\n",
    "                        center=dict(lat=37.55, lon=126.98), zoom=10.65,opacity=0.2, \n",
    "#                         mapbox_style=\"stamen-terrain\"\n",
    "#                        mapbox_style=\"open-street-map\"\n",
    "                       mapbox_style=\"carto-positron\"\n",
    "                        )\n",
    "\n",
    "fig.update_layout(margin={\"r\":0,\"t\":0,\"l\":0,\"b\":0})\n",
    "fig.update_coloraxes(showscale=False)\n",
    "# po.write_html(fig,file='반지름1히트맵.html')\n",
    "\n",
    "fig.show()"
   ]
  },
  {
   "cell_type": "markdown",
   "metadata": {},
   "source": [
    "### 분석 3\n",
    "#### 분석5 전체 분석 전 최단거리 알고리즘 활용 기법 검증을 위해 필요"
   ]
  },
  {
   "cell_type": "markdown",
   "metadata": {},
   "source": [
    "한두개 학교만 출력"
   ]
  },
  {
   "cell_type": "code",
   "execution_count": null,
   "metadata": {},
   "outputs": [],
   "source": [
    "G = ox.load_graphml('../1.데이터/2.usedata/서울경기도_도로.graphml')"
   ]
  },
  {
   "cell_type": "code",
   "execution_count": null,
   "metadata": {},
   "outputs": [],
   "source": [
    "#출발지 및 도착지 좌표\n",
    "def get_node(y,x):\n",
    "    return ox.get_nearest_node(G, (y, x))"
   ]
  },
  {
   "cell_type": "code",
   "execution_count": null,
   "metadata": {},
   "outputs": [],
   "source": [
    "def get_length(orig_node,dest_node):\n",
    "    len_node = nx.shortest_path_length(G, orig_node, dest_node, weight='length') / 1000\n",
    "    return len_node"
   ]
  },
  {
   "cell_type": "code",
   "execution_count": null,
   "metadata": {},
   "outputs": [],
   "source": [
    "# 학교데이터 범위 1차산정\n",
    "def get_near_school(범위지수,y,x):\n",
    "    tmp_school_df=school_df[(school_df['X좌표']<x+범위지수)&(school_df['X좌표']>x-범위지수)&(school_df['Y좌표']<y+범위지수)&(school_df['Y좌표']>y-범위지수)]\n",
    "    if len(tmp_school_df)!=0:\n",
    "        return tmp_school_df\n",
    "    \n",
    "    범위지수+=0.001\n",
    "    return get_near_school(범위지수,y,x)"
   ]
  },
  {
   "cell_type": "markdown",
   "metadata": {},
   "source": [
    "### 예시 서울시청"
   ]
  },
  {
   "cell_type": "code",
   "execution_count": null,
   "metadata": {},
   "outputs": [],
   "source": [
    "학교=pd.DataFrame({'경도':[126.9808065],'위도':[37.5661367]})"
   ]
  },
  {
   "cell_type": "markdown",
   "metadata": {},
   "source": [
    "서대문구청, 마포구청, 영등포구청, 관악구청, 서초구청, 송파구청, 중량구청, 강북구청, 종로구청"
   ]
  },
  {
   "cell_type": "code",
   "execution_count": null,
   "metadata": {},
   "outputs": [],
   "source": [
    "예시점=pd.DataFrame({'경도':[126.9368157,126.9019551,126.8962717,126.9515619,127.0327323,127.1059177,127.0931523,127.0255381,126.97899],'위도':[37.57916186,37.56621419,37.52636177,37.47836838,37.48358701,37.51458372,37.6063046,37.63975133,37.57350424]})"
   ]
  },
  {
   "cell_type": "code",
   "execution_count": null,
   "metadata": {},
   "outputs": [],
   "source": [
    "x2_li=[]\n",
    "y2_li=[]\n",
    "x_li=[]\n",
    "y_li=[]\n",
    "orig_node_li=[]\n",
    "dest_node_li=[]\n",
    "length_li=[]\n",
    "\n",
    "cnt=1\n",
    "for y2,x2 in zip(예시점['위도'],예시점['경도']):\n",
    "    print(cnt)\n",
    "    cnt+=1\n",
    "        \n",
    "    x2_li.append(x2)\n",
    "    y2_li.append(y2)\n",
    "    orig_node=get_node(y2,x2)\n",
    "    orig_node_li.append(orig_node)\n",
    "\n",
    "\n",
    "    dest_node=get_node(학교.위도[0], 학교.경도[0])\n",
    "    len_node=get_length(orig_node,dest_node)\n",
    "\n",
    "    x_li.append(학교.경도[0])\n",
    "    y_li.append(학교.위도[0])\n",
    "    dest_node_li.append(dest_node)"
   ]
  },
  {
   "cell_type": "code",
   "execution_count": null,
   "metadata": {},
   "outputs": [],
   "source": [
    "장훈고=pd.DataFrame({\"출발지_x\":x2_li,\"출발지_y\":y2_li,\"도착지_x\":x_li,\"도착지_y\":y_li,\"출발지_node\":orig_node_li,\"도착지_node\":dest_node_li})"
   ]
  },
  {
   "cell_type": "code",
   "execution_count": null,
   "metadata": {},
   "outputs": [],
   "source": [
    "long_li=[]\n",
    "lat_li=[]\n",
    "for start,destiny in zip(장훈고['출발지_node'],장훈고['도착지_node']):\n",
    "    route=nx.shortest_path(G, start, destiny, weight='length')\n",
    "    long = [] \n",
    "    lat = []  \n",
    "    for i in route:\n",
    "        point = G.nodes[i]\n",
    "        long.append(point['x'])\n",
    "        lat.append(point['y'])\n",
    "    long_li.append(long)\n",
    "    lat_li.append(lat)\n",
    "    \n",
    "장훈고['경로_x']=long_li\n",
    "장훈고['경로_y']=lat_li"
   ]
  },
  {
   "cell_type": "code",
   "execution_count": null,
   "metadata": {},
   "outputs": [],
   "source": [
    "장훈고.reset_index(drop=True,inplace=True)\n",
    "장훈고['경로_x']=장훈고['경로_x'].astype(str)\n",
    "장훈고['경로_y']=장훈고['경로_y'].astype(str)"
   ]
  },
  {
   "cell_type": "code",
   "execution_count": null,
   "metadata": {
    "scrolled": false
   },
   "outputs": [],
   "source": [
    "# 경로 스케처\n",
    "fig = go.Figure() \n",
    "\n",
    "for i in range(len(장훈고)):\n",
    "\n",
    "    fig.add_trace(go.Scattermapbox(\n",
    "        name = \"경로\",\n",
    "        mode = \"lines\",\n",
    "        lon = json.loads(장훈고['경로_x'][i]),\n",
    "        lat = json.loads(장훈고['경로_y'][i]),\n",
    "        marker = {'size': 10},\n",
    "        line = dict(width = 1, color = 'blue')))\n",
    "\n",
    "    # 시작지점 스케처\n",
    "    fig.add_trace(go.Scattermapbox(\n",
    "        name = \"시작지점\",\n",
    "        mode = \"markers\",\n",
    "        lon = [장훈고['출발지_x'][i]],\n",
    "        lat = [장훈고['출발지_y'][i]],\n",
    "        marker = {'size': 7, 'color':\"red\"}))\n",
    "\n",
    "    # 도착지점 스케쳐\n",
    "    fig.add_trace(go.Scattermapbox(\n",
    "        name = \"도착지점\",\n",
    "        mode = \"markers\",\n",
    "        lon = [장훈고['도착지_x'][i]],\n",
    "        lat = [장훈고['도착지_y'][i]],\n",
    "        marker = {'size': 15, 'color':'green'}))\n",
    "\n",
    "#     # 중심에 거리 및 시간 표시\n",
    "#     lat_center = np.mean(lat)\n",
    "#     long_center = np.mean(long)\n",
    "\n",
    "#     fig.add_trace(go.Scattermapbox(\n",
    "#         name = \"거리\",\n",
    "#         text = str(round(len_node,1))+'km',\n",
    "#         mode = \"markers+text\",\n",
    "#         marker = {'size': 12, 'color':'black'},\n",
    "#         textfont=dict(size=12, color='white'),\n",
    "#         lon = [long_center],\n",
    "#         lat = [lat_center]))\n",
    "\n",
    "fig.update_layout(mapbox_style=\"carto-positron\")\n",
    "fig.update_layout(showlegend=False)\n",
    "\n",
    "fig.update_layout(margin={\"r\":0,\"t\":0,\"l\":0,\"b\":0},\n",
    "                  mapbox = {\n",
    "                      'center': {'lat': 37.552, \n",
    "                      'lon': 126.995},\n",
    "                      'zoom': 10.5})\n",
    "fig.show()"
   ]
  },
  {
   "cell_type": "markdown",
   "metadata": {},
   "source": [
    "### 서울 전체 학교"
   ]
  },
  {
   "cell_type": "code",
   "execution_count": null,
   "metadata": {},
   "outputs": [],
   "source": [
    "complaints_df_seoul=complaints_df_seoul.sort_values(['경도','위도'])"
   ]
  },
  {
   "cell_type": "code",
   "execution_count": null,
   "metadata": {
    "scrolled": true
   },
   "outputs": [],
   "source": [
    "x2_li=[]\n",
    "y2_li=[]\n",
    "x_li=[]\n",
    "y_li=[]\n",
    "orig_node_li=[]\n",
    "dest_node_li=[]\n",
    "length_li=[]\n",
    "\n",
    "cnt=1\n",
    "for y2,x2 in zip(complaints_df_seoul['위도'],complaints_df_seoul['경도']):\n",
    "    print(cnt)\n",
    "    cnt+=1\n",
    "        \n",
    "    x2_li.append(x2)\n",
    "    y2_li.append(y2)\n",
    "    orig_node=get_node(y2,x2)\n",
    "    orig_node_li.append(orig_node)\n",
    "    school_df_tmp=get_near_school(0.00005,y2,x2)\n",
    "\n",
    "    tmp_var=50000\n",
    "    for y,x in zip(school_df_tmp.Y좌표,school_df_tmp.X좌표):\n",
    "        dest_node=get_node(y, x)\n",
    "        len_node=get_length(orig_node,dest_node)\n",
    "\n",
    "        if tmp_var<len_node:\n",
    "            pass\n",
    "        else:\n",
    "            tmp_var=len_node\n",
    "    x_li.append(x)\n",
    "    y_li.append(y)\n",
    "    dest_node_li.append(dest_node)\n",
    "    length_li.append(tmp_var)"
   ]
  },
  {
   "cell_type": "code",
   "execution_count": null,
   "metadata": {},
   "outputs": [],
   "source": [
    "complaints_parking_vf=pd.DataFrame({\"출발지_x\":x2_li,\"출발지_y\":y2_li,\"도착지_x\":x_li,\"도착지_y\":y_li,\"출발지_node\":orig_node_li,\"도착지_node\":dest_node_li,\"거리\":length_li})"
   ]
  },
  {
   "cell_type": "code",
   "execution_count": null,
   "metadata": {},
   "outputs": [],
   "source": [
    "long_li=[]\n",
    "lat_li=[]\n",
    "for start,destiny in zip(complaints_parking_vf['출발지_node'],complaints_parking_vf['도착지_node']):\n",
    "    route=nx.shortest_path(G, start, destiny, weight='length')\n",
    "    long = [] \n",
    "    lat = []  \n",
    "    for i in route:\n",
    "        point = G.nodes[i]\n",
    "        long.append(point['x'])\n",
    "        lat.append(point['y'])\n",
    "    long_li.append(long)\n",
    "    lat_li.append(lat)\n",
    "    \n",
    "complaints_parking_vf['경로_x']=long_li\n",
    "complaints_parking_vf['경로_y']=lat_li"
   ]
  },
  {
   "cell_type": "code",
   "execution_count": null,
   "metadata": {},
   "outputs": [],
   "source": [
    "complaints_parking_vf.to_csv('../1.데이터/2.usedata/전체_vf.csv',encoding='euc-kr',index=False)"
   ]
  },
  {
   "cell_type": "markdown",
   "metadata": {},
   "source": [
    "####  시각화"
   ]
  },
  {
   "cell_type": "code",
   "execution_count": null,
   "metadata": {},
   "outputs": [],
   "source": [
    "complaints_parking_vf=pd.read_csv('../1.데이터/2.usedata/전체_vf.csv',engine='python')"
   ]
  },
  {
   "cell_type": "code",
   "execution_count": null,
   "metadata": {},
   "outputs": [],
   "source": [
    "관악구=gpd.read_file('../1.데이터/2.usedata/SIG_20220324/sig.shp',encoding='euc-kr')"
   ]
  },
  {
   "cell_type": "code",
   "execution_count": null,
   "metadata": {},
   "outputs": [],
   "source": [
    "관악구=관악구[관악구['SIG_KOR_NM']=='양천구']"
   ]
  },
  {
   "cell_type": "code",
   "execution_count": null,
   "metadata": {},
   "outputs": [],
   "source": [
    "관악구=관악구.to_crs(\"epsg:4326\")"
   ]
  },
  {
   "cell_type": "code",
   "execution_count": null,
   "metadata": {},
   "outputs": [],
   "source": [
    "complaints_parking_vf=gpd.GeoDataFrame(complaints_parking_vf,geometry=gpd.points_from_xy(complaints_parking_vf.도착지_x,complaints_parking_vf.도착지_y),crs=\"EPSG:4326\")"
   ]
  },
  {
   "cell_type": "code",
   "execution_count": null,
   "metadata": {
    "scrolled": true
   },
   "outputs": [],
   "source": [
    "complaints_df_관악 = gpd.sjoin(complaints_parking_vf, 관악구)"
   ]
  },
  {
   "cell_type": "code",
   "execution_count": null,
   "metadata": {},
   "outputs": [],
   "source": [
    "complaints_df_관악.reset_index(drop=True,inplace=True)"
   ]
  },
  {
   "cell_type": "code",
   "execution_count": null,
   "metadata": {},
   "outputs": [],
   "source": [
    "def color_change(i):\n",
    "    cor_li=['aliceblue','antiquewhite','aqua','aquamarine','azure','beige','bisque','black','blanchedalmond','blue','blueviolet','brown','burlywood','cadetblue','chartreuse','chocolate','coral','cornflowerblue','cornsilk','crimson','cyan','darkblue','darkcyan','darkgoldenrod','darkgray','darkgrey','darkgreen','darkkhaki','darkmagenta','darkolivegreen','darkorange','darkorchid','darkred','darksalmon','darkseagreen','darkslateblue','darkslategray','darkslategrey','darkturquoise','darkviolet','deeppink','deepskyblue','dimgray','dimgrey','dodgerblue','firebrick','floralwhite','forestgreen','fuchsia','gainsboro','ghostwhite','gold','goldenrod','gray','grey','green','greenyellow','honeydew','hotpink','indianred','indigo','ivory','khaki','lavender','lavenderblush','lawngreen','lemonchiffon','lightblue','lightcoral','lightcyan','lightgoldenrodyellow','lightgray','lightgrey','lightgreen','lightpink','lightsalmon','lightseagreen','lightskyblue','lightslategray','lightslategrey','lightsteelblue','lightyellow','lime','limegreen','linen','magenta','maroon','mediumaquamarine','mediumblue','mediumorchid','mediumpurple','mediumseagreen','mediumslateblue','mediumspringgreen','mediumturquoise','mediumvioletred','midnightblue','mintcream','mistyrose','moccasin','navajowhite','navy','oldlace','olive','olivedrab','orange','orangered','orchid','palegoldenrod','palegreen','paleturquoise','palevioletred','papayawhip','peachpuff','peru','pink','plum','powderblue','purple','red','rosybrown','royalblue','rebeccapurple','saddlebrown','salmon','sandybrown','seagreen','seashell','sienna','silver','skyblue','slateblue','slategray','slategrey','snow','springgreen','steelblue','tan','teal','thistle','tomato','turquoise','violet','wheat','white','whitesmoke','yellow','yellowgreen']\n",
    "    return cor_li[i]"
   ]
  },
  {
   "cell_type": "code",
   "execution_count": null,
   "metadata": {},
   "outputs": [],
   "source": [
    "# 경로 스케처\n",
    "fig = go.Figure() \n",
    "\n",
    "for i in range(len(complaints_df_관악)):\n",
    "\n",
    "    fig.add_trace(go.Scattermapbox(\n",
    "        name = \"경로\",\n",
    "        mode = \"lines\",\n",
    "        lon = json.loads(complaints_df_관악['경로_x'][i]),\n",
    "        lat = json.loads(complaints_df_관악['경로_y'][i]),\n",
    "        marker = {'size': 10},\n",
    "        line = dict(width = 1, color = 'blue')))\n",
    "\n",
    "    # 시작지점 스케처\n",
    "    fig.add_trace(go.Scattermapbox(\n",
    "        name = \"시작지점\",\n",
    "        mode = \"markers\",\n",
    "        lon = [complaints_df_관악['출발지_x'][i]],\n",
    "        lat = [complaints_df_관악['출발지_y'][i]],\n",
    "        marker = {'size': 7, 'color':\"red\"}))\n",
    "\n",
    "    # 도착지점 스케쳐\n",
    "    fig.add_trace(go.Scattermapbox(\n",
    "        name = \"도착지점\",\n",
    "        mode = \"markers\",\n",
    "        lon = [complaints_df_관악['도착지_x'][i]],\n",
    "        lat = [complaints_df_관악['도착지_y'][i]],\n",
    "        marker = {'size': 7, 'color':'green'}))\n",
    "\n",
    "#     # 중심에 거리 및 시간 표시\n",
    "#     lat_center = np.mean(lat)\n",
    "#     long_center = np.mean(long)\n",
    "\n",
    "#     fig.add_trace(go.Scattermapbox(\n",
    "#         name = \"거리\",\n",
    "#         text = str(round(len_node,1))+'km',\n",
    "#         mode = \"markers+text\",\n",
    "#         marker = {'size': 12, 'color':'black'},\n",
    "#         textfont=dict(size=12, color='white'),\n",
    "#         lon = [long_center],\n",
    "#         lat = [lat_center]))\n",
    "\n",
    "fig.update_layout(mapbox_style=\"carto-positron\")\n",
    "fig.update_layout(showlegend=False)\n",
    "\n",
    "fig.update_layout(margin={\"r\":0,\"t\":0,\"l\":0,\"b\":0},\n",
    "                  mapbox = {\n",
    "                      'center': {'lat': 37.475, \n",
    "                      'lon': 126.94},\n",
    "                      'zoom': 13})\n",
    "fig.show()"
   ]
  },
  {
   "cell_type": "markdown",
   "metadata": {},
   "source": [
    "### 분석 \n",
    "#### 최종 분석 결과 도출"
   ]
  },
  {
   "cell_type": "markdown",
   "metadata": {},
   "source": [
    "중심점 = 학교 반경을 유동적으로 준다음 주차면수에 비해 주정차 신고값이 많을경우 그 점들에대해 최단거리 구해서 POP INSERT 하는방식"
   ]
  },
  {
   "cell_type": "code",
   "execution_count": null,
   "metadata": {},
   "outputs": [],
   "source": [
    "# 경로 스케처\n",
    "fig = go.Figure() \n",
    "\n",
    "for i in range(len(complaints_parking_vf)):\n",
    "\n",
    "    fig.add_trace(go.Scattermapbox(\n",
    "        name = \"경로\",\n",
    "        mode = \"lines\",\n",
    "        lon = json.loads(complaints_parking_vf['경로_x'][i]),\n",
    "        lat = json.loads(complaints_parking_vf['경로_y'][i]),\n",
    "        marker = {'size': 10},\n",
    "        line = dict(width = 1, color = 'blue')))\n",
    "\n",
    "    # 시작지점 스케처\n",
    "    fig.add_trace(go.Scattermapbox(\n",
    "        name = \"시작지점\",\n",
    "        mode = \"markers\",\n",
    "        lon = [complaints_parking_vf['출발지_x'][i]],\n",
    "        lat = [complaints_parking_vf['출발지_y'][i]],\n",
    "        marker = {'size': 4, 'color':\"red\"}))\n",
    "\n",
    "    # 도착지점 스케쳐\n",
    "    fig.add_trace(go.Scattermapbox(\n",
    "        name = \"도착지점\",\n",
    "        mode = \"markers\",\n",
    "        lon = [complaints_parking_vf['도착지_x'][i]],\n",
    "        lat = [complaints_parking_vf['도착지_y'][i]],\n",
    "        marker = {'size': 4, 'color':'green'}))\n",
    "\n",
    "#     # 중심에 거리 및 시간 표시\n",
    "#     lat_center = np.mean(lat)\n",
    "#     long_center = np.mean(long)\n",
    "\n",
    "#     fig.add_trace(go.Scattermapbox(\n",
    "#         name = \"거리\",\n",
    "#         text = str(round(len_node,1))+'km',\n",
    "#         mode = \"markers+text\",\n",
    "#         marker = {'size': 12, 'color':'black'},\n",
    "#         textfont=dict(size=12, color='white'),\n",
    "#         lon = [long_center],\n",
    "#         lat = [lat_center]))\n",
    "\n",
    "fig.update_layout(mapbox_style=\"carto-positron\")\n",
    "fig.update_layout(showlegend=False)\n",
    "\n",
    "fig.update_layout(margin={\"r\":0,\"t\":0,\"l\":0,\"b\":0},\n",
    "                  mapbox = {\n",
    "                      'center': {'lat': 37.55, \n",
    "                      'lon': 126.98},\n",
    "                      'zoom': 10.65})\n",
    "fig.show()"
   ]
  },
  {
   "cell_type": "code",
   "execution_count": null,
   "metadata": {},
   "outputs": [],
   "source": [
    "complaints_parking_vf['평균거리']=complaints_parking_vf['거리'].copy()"
   ]
  },
  {
   "cell_type": "code",
   "execution_count": null,
   "metadata": {},
   "outputs": [],
   "source": [
    "tmp=complaints_parking_vf.groupby(['도착지_x','도착지_y'],as_index=False).agg({'출발지_x':'count','평균거리':'mean'})"
   ]
  },
  {
   "cell_type": "code",
   "execution_count": null,
   "metadata": {},
   "outputs": [],
   "source": [
    "tmp=tmp.sort_values('출발지_x',ascending=False)"
   ]
  },
  {
   "cell_type": "code",
   "execution_count": null,
   "metadata": {},
   "outputs": [],
   "source": [
    "school_df.loc[school_df['학교명'].str.contains('영풍초'),'X좌표']=127.14315516161001\n",
    "school_df.loc[school_df['학교명'].str.contains('묘곡초'),'Y좌표']=37.558554728522104\n",
    "school_df.loc[school_df['학교명'].str.contains('화계초'),'X좌표']=127.02906701433999\n",
    "school_df.loc[school_df['학교명'].str.contains('봉은초'),'X좌표']=127.06087214626001\n",
    "school_df.loc[school_df['학교명'].str.contains('옥정초'),'Y좌표']=37.542009825996104\n",
    "school_df.loc[school_df['학교명'].str.contains('강남초'),'X좌표']=126.95273815978999"
   ]
  },
  {
   "cell_type": "code",
   "execution_count": null,
   "metadata": {},
   "outputs": [],
   "source": [
    "tmp=pd.merge(tmp,school_df[['학교명','X좌표','Y좌표','주차가능대수']],how='left',left_on=['도착지_x','도착지_y'],right_on=['X좌표','Y좌표'])"
   ]
  },
  {
   "cell_type": "code",
   "execution_count": null,
   "metadata": {},
   "outputs": [],
   "source": [
    "tmp=tmp[['학교명','X좌표','Y좌표','주차가능대수','출발지_x','평균거리']]\n",
    "tmp.columns=['학교명','X좌표','Y좌표','주차가능대수','민원수','평균거리']"
   ]
  },
  {
   "cell_type": "code",
   "execution_count": null,
   "metadata": {},
   "outputs": [],
   "source": [
    "tmp['불법주정차 유입수']=tmp['민원수']*1"
   ]
  },
  {
   "cell_type": "code",
   "execution_count": null,
   "metadata": {},
   "outputs": [],
   "source": [
    "tmp['여유주차가능대수']=tmp['주차가능대수']-tmp['불법주정차 유입수']"
   ]
  },
  {
   "cell_type": "code",
   "execution_count": null,
   "metadata": {},
   "outputs": [],
   "source": [
    "tmp['평균시간']=tmp['평균거리']/4.8*60"
   ]
  },
  {
   "cell_type": "code",
   "execution_count": null,
   "metadata": {},
   "outputs": [],
   "source": [
    "tmp=tmp.sort_values('불법주정차 유입수',ascending=False).drop(['X좌표','Y좌표','민원수'],axis=1)"
   ]
  },
  {
   "cell_type": "code",
   "execution_count": null,
   "metadata": {},
   "outputs": [],
   "source": [
    "tmp=tmp[['학교명','주차가능대수','불법주정차 유입수','여유주차가능대수','평균거리','평균시간']]"
   ]
  },
  {
   "cell_type": "code",
   "execution_count": null,
   "metadata": {},
   "outputs": [],
   "source": [
    "tmp.columns=['학교명', '주차가능대수', '불법주정차 유입수', '여유주차가능대수', '평균거리(km)', '평균시간(분)']"
   ]
  },
  {
   "cell_type": "code",
   "execution_count": null,
   "metadata": {},
   "outputs": [],
   "source": [
    "tmp['평균거리(km)']=round(tmp['평균거리(km)'],2)\n",
    "tmp['평균시간(분)']=round(tmp['평균시간(분)'],1)"
   ]
  },
  {
   "cell_type": "code",
   "execution_count": null,
   "metadata": {},
   "outputs": [],
   "source": [
    "tmp.head(10)['평균시간(분)'].mean()"
   ]
  },
  {
   "cell_type": "code",
   "execution_count": null,
   "metadata": {},
   "outputs": [],
   "source": [
    "len(set(school_df['학교명']))"
   ]
  },
  {
   "cell_type": "code",
   "execution_count": null,
   "metadata": {},
   "outputs": [],
   "source": [
    "#민원통계=pd.DataFrame({'연도':[2018,2019,2020,2021],  '민원수':[747362,970166,1030074,1107648]    }) #경찰청\n",
    "민원통계=pd.DataFrame({'연도':[2016,2017,2018,2019,2020,2021],  '민원수':[128988,500739,475072,1088333,1755887,3437246]    }) #서울스마트신고\n",
    "#민원통계=pd.DataFrame({'연도':[2016,2017,2018,2019,2020,2021],  '민원수':[1,3,5,7,9,100]    }) #서울스마트신고\n",
    "\n",
    "민원통계.set_index('연도',inplace=True)\n",
    "\n",
    "\n",
    "민원통계 = 민원통계/10000\n",
    "민원통계 = sm.add_constant(민원통계[['민원수']])\n",
    "\n",
    "\n",
    "sub = 민원통계[['const']]\n",
    "sub['연도'] = sub.index\n",
    "sub=sub[['const','연도']]\n",
    "\n",
    "\n",
    "model = sm.OLS(민원통계[['민원수']],sub)\n",
    "result = model.fit()\n",
    "\n",
    "\n",
    "\n",
    "pred = pd.DataFrame({'const':[1.0]*(10),'연도':range(2016,2026)} )\n",
    "\n",
    "pred['민원수'] = result.predict(pred)\n",
    "pred = pred.drop('const', axis=True).set_index('연도')"
   ]
  },
  {
   "cell_type": "code",
   "execution_count": null,
   "metadata": {},
   "outputs": [],
   "source": [
    "### 시각화\n",
    "\n",
    "fig = go.Figure()\n",
    "# 사업 전 막대그래프\n",
    "fig.add_trace(go.Bar(\n",
    "                     x=민원통계[(민원통계.index < 2022)  ].index.astype(str), \n",
    "                     y=민원통계[(민원통계.index < 2022)  ].민원수,\n",
    "                     text = round(민원통계.민원수),\n",
    "                     name = '민원수' , marker_color='#3A9EF0',\n",
    "                     textposition=\"auto\"\n",
    "                    )\n",
    "             ) \n",
    "\n",
    "# 사업 전 예측  ( 점선 )\n",
    "fig.add_trace(go.Scatter(\n",
    "                    x=pred.index.astype(str), \n",
    "                    y=pred.민원수, \n",
    "                    name ='민원수예측', \n",
    "                    line=dict(color='#1B57C8', width=4, dash='dash')\n",
    "                    #mode='lines' ,  marker_color='cornflowerblue'\n",
    "                        )\n",
    "             ) \n",
    "\n",
    "\n",
    "# 사업 중 예측  ( 마커 )\n",
    "fig.add_trace(go.Scatter(\n",
    "                    x=pred[pred.index == 2025 ].index.astype(str), \n",
    "                    y=pred[pred.index == 2025 ].민원수, \n",
    "                    mode='text+markers',name='예측값(민원수)',   showlegend=False,\n",
    "                    text = round(pred[pred.index == 2025 ].민원수),\n",
    "                    textposition=\"top center\",marker=dict(size=20, color='#1B57C8', symbol=18 )\n",
    "                    #mode='lines' ,  marker_color='cornflowerblue'\n",
    "                        )\n",
    "             ) \n",
    "\n",
    "\n",
    "\n",
    "\n",
    "fig.update_layout(margin={\"r\":0,\"t\":50,\"l\":0,\"b\":0},\n",
    "                    font=dict(family=\"Malgun Gothic\",size=13,color='#000000'),   \n",
    "                    title=dict( text='<b> 회귀선 </b>',  x=0.5 ),\n",
    "                    legend=dict(orientation=\"h\",yanchor=\"bottom\", x=0.5, y=-0.15, xanchor=\"center\")\n",
    "                         )\n",
    "fig.update_yaxes(showline=True,showgrid=True,showticklabels=True, tickfont=dict(size=13) , \n",
    "                 gridcolor='#DCEAF2' \n",
    "                )\n",
    "fig.update_xaxes(showline=True,showgrid=True,showticklabels=True, tickfont=dict(size=13) )\n",
    "fig.update_layout({ 'plot_bgcolor': 'rgb(255, 255, 255)','paper_bgcolor': 'rgb(255, 255, 255)'})\n",
    "fig.show()\n",
    "\n",
    "\n",
    "#arima_시각화(pred_df,target)"
   ]
  }
 ],
 "metadata": {
  "kernelspec": {
   "display_name": "Python 3",
   "language": "python",
   "name": "python3"
  },
  "language_info": {
   "codemirror_mode": {
    "name": "ipython",
    "version": 3
   },
   "file_extension": ".py",
   "mimetype": "text/x-python",
   "name": "python",
   "nbconvert_exporter": "python",
   "pygments_lexer": "ipython3",
   "version": "3.9.13"
  }
 },
 "nbformat": 4,
 "nbformat_minor": 2
}
